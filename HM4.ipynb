{
 "cells": [
  {
   "cell_type": "markdown",
   "id": "ed75ee3d-4723-4024-84a8-5f7c10f85b29",
   "metadata": {},
   "source": [
    "### 3. Algorithmic questions"
   ]
  },
  {
   "cell_type": "code",
   "execution_count": 8,
   "id": "67561acd-a6e6-4025-b594-3859ebffb575",
   "metadata": {},
   "outputs": [],
   "source": [
    "def FindSum(A, size, x) :\n",
    "    l=[]\n",
    "    for i in range (0, size - 1):\n",
    "        for j in range (i + 1, size):\n",
    "            if (A[i] + A[j] == x):\n",
    "                l.append((A[i] , A[j]))\n",
    "   \n",
    "    return(l)"
   ]
  },
  {
   "cell_type": "code",
   "execution_count": 10,
   "id": "dfab172c-cd74-4a22-961c-b01eba42f804",
   "metadata": {},
   "outputs": [
    {
     "data": {
      "text/plain": [
       "[(7, -3), (-2, 6), (2, 2), (1, 3)]"
      ]
     },
     "execution_count": 10,
     "metadata": {},
     "output_type": "execute_result"
    }
   ],
   "source": [
    "A = [7, -2, 8, 2, 6, 4, -7, 2, 1, 3, -3] \n",
    "s = 4\n",
    "size = len(A)\n",
    "FindSum(A,size,s)"
   ]
  }
 ],
 "metadata": {
  "kernelspec": {
   "display_name": "Python 3",
   "language": "python",
   "name": "python3"
  },
  "language_info": {
   "codemirror_mode": {
    "name": "ipython",
    "version": 3
   },
   "file_extension": ".py",
   "mimetype": "text/x-python",
   "name": "python",
   "nbconvert_exporter": "python",
   "pygments_lexer": "ipython3",
   "version": "3.8.8"
  }
 },
 "nbformat": 4,
 "nbformat_minor": 5
}
